{
  "nbformat": 4,
  "nbformat_minor": 5,
  "metadata": {
    "kernelspec": {
      "display_name": "Python 3",
      "language": "python",
      "name": "python3"
    },
    "language_info": {
      "codemirror_mode": {
        "name": "ipython",
        "version": 3
      },
      "file_extension": ".py",
      "mimetype": "text/x-python",
      "name": "python",
      "nbconvert_exporter": "python",
      "pygments_lexer": "ipython3",
      "version": "3.7.10"
    },
    "papermill": {
      "default_parameters": {},
      "duration": 11.375201,
      "end_time": "2021-11-22T12:31:34.583384",
      "environment_variables": {},
      "exception": null,
      "input_path": "__notebook__.ipynb",
      "output_path": "__notebook__.ipynb",
      "parameters": {},
      "start_time": "2021-11-22T12:31:23.208183",
      "version": "2.3.3"
    },
    "colab": {
      "name": "test-github.ipynb",
      "provenance": [],
      "include_colab_link": true
    }
  },
  "cells": [
    {
      "cell_type": "markdown",
      "metadata": {
        "id": "view-in-github",
        "colab_type": "text"
      },
      "source": [
        "<a href=\"https://colab.research.google.com/github/Boshra-sadder/Test/blob/main/test_github.ipynb\" target=\"_parent\"><img src=\"https://colab.research.google.com/assets/colab-badge.svg\" alt=\"Open In Colab\"/></a>"
      ]
    },
    {
      "cell_type": "code",
      "metadata": {
        "_cell_guid": "b1076dfc-b9ad-4769-8c92-a6c4dae69d19",
        "_uuid": "8f2839f25d086af736a60e9eeb907d3b93b6e0e5",
        "execution": {
          "iopub.execute_input": "2021-11-22T12:31:33.933523Z",
          "iopub.status.busy": "2021-11-22T12:31:33.931376Z",
          "iopub.status.idle": "2021-11-22T12:31:33.947827Z",
          "shell.execute_reply": "2021-11-22T12:31:33.947145Z",
          "shell.execute_reply.started": "2021-11-22T11:19:52.462822Z"
        },
        "papermill": {
          "duration": 0.028404,
          "end_time": "2021-11-22T12:31:33.948132",
          "exception": false,
          "start_time": "2021-11-22T12:31:33.919728",
          "status": "completed"
        },
        "tags": [],
        "id": "2cef81e8"
      },
      "source": [
        "# This Python 3 environment comes with many helpful analytics libraries installed\n",
        "# It is defined by the kaggle/python Docker image: https://github.com/kaggle/docker-python\n",
        "# For example, here's several helpful packages to load\n",
        "\n",
        "import numpy as np # linear algebra\n",
        "import pandas as pd # data processing, CSV file I/O (e.g. pd.read_csv)\n",
        "\n",
        "# Input data files are available in the read-only \"../input/\" directory\n",
        "# For example, running this (by clicking run or pressing Shift+Enter) will list all files under the input directory\n",
        "\n",
        "import os\n",
        "for dirname, _, filenames in os.walk('/kaggle/input'):\n",
        "    for filename in filenames:\n",
        "        print(os.path.join(dirname, filename))\n",
        "\n",
        "# You can write up to 20GB to the current directory (/kaggle/working/) that gets preserved as output when you create a version using \"Save & Run All\" \n",
        "# You can also write temporary files to /kaggle/temp/, but they won't be saved outside of the current session"
      ],
      "id": "2cef81e8",
      "execution_count": null,
      "outputs": []
    },
    {
      "cell_type": "code",
      "metadata": {
        "execution": {
          "iopub.execute_input": "2021-11-22T12:31:33.960427Z",
          "iopub.status.busy": "2021-11-22T12:31:33.959439Z",
          "iopub.status.idle": "2021-11-22T12:31:33.967356Z",
          "shell.execute_reply": "2021-11-22T12:31:33.966308Z",
          "shell.execute_reply.started": "2021-11-22T12:30:43.683651Z"
        },
        "papermill": {
          "duration": 0.0158,
          "end_time": "2021-11-22T12:31:33.967816",
          "exception": false,
          "start_time": "2021-11-22T12:31:33.952016",
          "status": "completed"
        },
        "tags": [],
        "id": "538a08c1",
        "outputId": "ca424c3b-c442-498c-b746-9d43bf96ae24"
      },
      "source": [
        "D= [1,2,3,4,5,6]\n",
        "for i in range(len(D)):\n",
        "    print (D[i])"
      ],
      "id": "538a08c1",
      "execution_count": null,
      "outputs": [
        {
          "name": "stdout",
          "output_type": "stream",
          "text": [
            "1\n",
            "2\n",
            "3\n",
            "4\n",
            "5\n",
            "6\n"
          ]
        }
      ]
    }
  ]
}